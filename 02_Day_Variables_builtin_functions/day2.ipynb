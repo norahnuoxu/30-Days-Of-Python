{
 "cells": [
  {
   "cell_type": "markdown",
   "id": "2c152d77",
   "metadata": {},
   "source": [
    "Day 2: 30 Days of python programming"
   ]
  },
  {
   "cell_type": "markdown",
   "id": "0e592d3b",
   "metadata": {},
   "source": [
    "Exercise One"
   ]
  },
  {
   "cell_type": "code",
   "execution_count": 53,
   "id": "21e3d6d6",
   "metadata": {},
   "outputs": [],
   "source": [
    "first_name='Eva'"
   ]
  },
  {
   "cell_type": "code",
   "execution_count": 54,
   "id": "7a3bc96f",
   "metadata": {},
   "outputs": [],
   "source": [
    "last_name='Chen'"
   ]
  },
  {
   "cell_type": "code",
   "execution_count": 55,
   "id": "84bf769f",
   "metadata": {},
   "outputs": [],
   "source": [
    "full_name=first_name+' '+last_name"
   ]
  },
  {
   "cell_type": "code",
   "execution_count": 56,
   "id": "d618f75e",
   "metadata": {},
   "outputs": [
    {
     "name": "stdout",
     "output_type": "stream",
     "text": [
      "Eva Chen\n"
     ]
    }
   ],
   "source": [
    "print(full_name)"
   ]
  },
  {
   "cell_type": "code",
   "execution_count": 57,
   "id": "8ab02531",
   "metadata": {},
   "outputs": [],
   "source": [
    "country='United Kingdom'"
   ]
  },
  {
   "cell_type": "code",
   "execution_count": 58,
   "id": "6d65e47d",
   "metadata": {},
   "outputs": [],
   "source": [
    "city='Esher'"
   ]
  },
  {
   "cell_type": "code",
   "execution_count": 59,
   "id": "328d46f3",
   "metadata": {},
   "outputs": [],
   "source": [
    "age=10"
   ]
  },
  {
   "cell_type": "code",
   "execution_count": 60,
   "id": "89e9832a",
   "metadata": {},
   "outputs": [],
   "source": [
    "year=2024"
   ]
  },
  {
   "cell_type": "code",
   "execution_count": 61,
   "id": "e7c8a9a2",
   "metadata": {},
   "outputs": [],
   "source": [
    "is_married=True"
   ]
  },
  {
   "cell_type": "code",
   "execution_count": 62,
   "id": "261079a2",
   "metadata": {},
   "outputs": [
    {
     "name": "stdout",
     "output_type": "stream",
     "text": [
      "<class 'bool'>\n"
     ]
    }
   ],
   "source": [
    "print(type(is_married))"
   ]
  },
  {
   "cell_type": "code",
   "execution_count": 63,
   "id": "0df91309",
   "metadata": {},
   "outputs": [],
   "source": [
    "is_true=True"
   ]
  },
  {
   "cell_type": "code",
   "execution_count": 64,
   "id": "5a3a5639",
   "metadata": {},
   "outputs": [],
   "source": [
    "is_light_on=False"
   ]
  },
  {
   "cell_type": "code",
   "execution_count": 65,
   "id": "30c584b7",
   "metadata": {},
   "outputs": [],
   "source": [
    "person_info={'first_name':'Eva',\n",
    "             'last_name':'Chen',\n",
    "             'age':10,\n",
    "             'year':2024,\n",
    "             'country':'United Kindom',\n",
    "             'city':'Esher'}"
   ]
  },
  {
   "cell_type": "code",
   "execution_count": 66,
   "id": "851079c7",
   "metadata": {},
   "outputs": [
    {
     "name": "stdout",
     "output_type": "stream",
     "text": [
      "<class 'dict'>\n"
     ]
    }
   ],
   "source": [
    "print(type(person_info))"
   ]
  },
  {
   "cell_type": "code",
   "execution_count": 67,
   "id": "a1d7166d",
   "metadata": {},
   "outputs": [
    {
     "name": "stdout",
     "output_type": "stream",
     "text": [
      "Eva\n"
     ]
    }
   ],
   "source": [
    "print(person_info['first_name'])"
   ]
  },
  {
   "cell_type": "code",
   "execution_count": 68,
   "id": "432b5a50",
   "metadata": {},
   "outputs": [
    {
     "name": "stdout",
     "output_type": "stream",
     "text": [
      "<class 'int'>\n"
     ]
    }
   ],
   "source": [
    "print(type(age))"
   ]
  },
  {
   "cell_type": "code",
   "execution_count": 69,
   "id": "46c90243",
   "metadata": {},
   "outputs": [
    {
     "name": "stdout",
     "output_type": "stream",
     "text": [
      "<class 'int'>\n"
     ]
    }
   ],
   "source": [
    "print(type(year))"
   ]
  },
  {
   "cell_type": "code",
   "execution_count": 70,
   "id": "8982330b",
   "metadata": {},
   "outputs": [
    {
     "name": "stdout",
     "output_type": "stream",
     "text": [
      "3\n"
     ]
    }
   ],
   "source": [
    "print(len(first_name))"
   ]
  },
  {
   "cell_type": "code",
   "execution_count": 71,
   "id": "4e66296d",
   "metadata": {},
   "outputs": [
    {
     "name": "stdout",
     "output_type": "stream",
     "text": [
      "False\n"
     ]
    }
   ],
   "source": [
    "print(len(first_name)>len(last_name))"
   ]
  },
  {
   "cell_type": "markdown",
   "id": "7ffbb48e",
   "metadata": {},
   "source": [
    "-------Exercise Two---------\n"
   ]
  },
  {
   "cell_type": "code",
   "execution_count": 72,
   "id": "cffce9e0",
   "metadata": {},
   "outputs": [],
   "source": [
    "num_one=5"
   ]
  },
  {
   "cell_type": "code",
   "execution_count": 73,
   "id": "b232b3a7",
   "metadata": {},
   "outputs": [],
   "source": [
    "num_two=4"
   ]
  },
  {
   "cell_type": "code",
   "execution_count": 74,
   "id": "6869e5e2",
   "metadata": {},
   "outputs": [],
   "source": [
    "diff=num_one-num_two"
   ]
  },
  {
   "cell_type": "code",
   "execution_count": 75,
   "id": "54139293",
   "metadata": {},
   "outputs": [],
   "source": [
    "product=num_one*num_two"
   ]
  },
  {
   "cell_type": "code",
   "execution_count": 76,
   "id": "7e6dced0",
   "metadata": {},
   "outputs": [],
   "source": [
    "division=num_one/num_two"
   ]
  },
  {
   "cell_type": "code",
   "execution_count": 77,
   "id": "78fcbf6a",
   "metadata": {},
   "outputs": [
    {
     "name": "stdout",
     "output_type": "stream",
     "text": [
      "1.25\n"
     ]
    }
   ],
   "source": [
    "print(division)"
   ]
  },
  {
   "cell_type": "code",
   "execution_count": 78,
   "id": "ebc95449",
   "metadata": {},
   "outputs": [],
   "source": [
    "modulus=num_one%num_two"
   ]
  },
  {
   "cell_type": "code",
   "execution_count": 79,
   "id": "e4564dab",
   "metadata": {},
   "outputs": [
    {
     "name": "stdout",
     "output_type": "stream",
     "text": [
      "1\n"
     ]
    }
   ],
   "source": [
    "print(modulus)"
   ]
  },
  {
   "cell_type": "code",
   "execution_count": 80,
   "id": "3692fb3f",
   "metadata": {},
   "outputs": [],
   "source": [
    "exp=num_one**num_two"
   ]
  },
  {
   "cell_type": "code",
   "execution_count": 81,
   "id": "54e65505",
   "metadata": {},
   "outputs": [
    {
     "name": "stdout",
     "output_type": "stream",
     "text": [
      "625\n"
     ]
    }
   ],
   "source": [
    "print(exp)"
   ]
  },
  {
   "cell_type": "code",
   "execution_count": 82,
   "id": "70e36306",
   "metadata": {},
   "outputs": [],
   "source": [
    "floor_division=num_one//num_two"
   ]
  },
  {
   "cell_type": "code",
   "execution_count": 83,
   "id": "c14fb7fa",
   "metadata": {},
   "outputs": [
    {
     "name": "stdout",
     "output_type": "stream",
     "text": [
      "1\n"
     ]
    }
   ],
   "source": [
    "print(floor_division)"
   ]
  },
  {
   "cell_type": "markdown",
   "id": "5045d1ee",
   "metadata": {},
   "source": [
    "The radius of a circle is 30 meters"
   ]
  },
  {
   "cell_type": "code",
   "execution_count": 84,
   "id": "4087ffe7",
   "metadata": {},
   "outputs": [],
   "source": [
    "radium=30"
   ]
  },
  {
   "cell_type": "code",
   "execution_count": 85,
   "id": "3dc4fbb4",
   "metadata": {},
   "outputs": [],
   "source": [
    "import math"
   ]
  },
  {
   "cell_type": "code",
   "execution_count": 86,
   "id": "78af25d5",
   "metadata": {},
   "outputs": [],
   "source": [
    "area=math.pi*radium**2"
   ]
  },
  {
   "cell_type": "code",
   "execution_count": 87,
   "id": "df62a204",
   "metadata": {},
   "outputs": [
    {
     "name": "stdout",
     "output_type": "stream",
     "text": [
      "2827.4333882308138\n"
     ]
    }
   ],
   "source": [
    "print(area)"
   ]
  },
  {
   "cell_type": "code",
   "execution_count": 88,
   "id": "c8aa62cc",
   "metadata": {},
   "outputs": [],
   "source": [
    "circum_of_circle=math.pi*2*radium\n"
   ]
  },
  {
   "cell_type": "code",
   "execution_count": 89,
   "id": "f4a54825",
   "metadata": {},
   "outputs": [
    {
     "name": "stdout",
     "output_type": "stream",
     "text": [
      "188.49555921538757\n"
     ]
    }
   ],
   "source": [
    "print(circum_of_circle)"
   ]
  },
  {
   "cell_type": "code",
   "execution_count": 90,
   "id": "783c7cb8",
   "metadata": {},
   "outputs": [
    {
     "name": "stdout",
     "output_type": "stream",
     "text": [
      "what is the radius of your circle20\n"
     ]
    }
   ],
   "source": [
    "radium=input('what is the radius of your circle')"
   ]
  },
  {
   "cell_type": "code",
   "execution_count": 91,
   "id": "3ca7e101",
   "metadata": {},
   "outputs": [
    {
     "name": "stdout",
     "output_type": "stream",
     "text": [
      "20\n"
     ]
    }
   ],
   "source": [
    "print(radium)"
   ]
  },
  {
   "cell_type": "code",
   "execution_count": 92,
   "id": "cfc70b29",
   "metadata": {},
   "outputs": [],
   "source": [
    "r=float(radium)"
   ]
  },
  {
   "cell_type": "code",
   "execution_count": 93,
   "id": "664d23c8",
   "metadata": {},
   "outputs": [],
   "source": [
    "area=math.pi*r**2"
   ]
  },
  {
   "cell_type": "code",
   "execution_count": 94,
   "id": "c3f9057c",
   "metadata": {},
   "outputs": [
    {
     "name": "stdout",
     "output_type": "stream",
     "text": [
      "1256.6370614359173\n"
     ]
    }
   ],
   "source": [
    "print(area)"
   ]
  },
  {
   "cell_type": "markdown",
   "id": "2fdabb86",
   "metadata": {},
   "source": [
    "Use the built-in input function to get \n",
    "first name, last name, country and age from a user and store the value to their corresponding variable names"
   ]
  },
  {
   "cell_type": "code",
   "execution_count": 95,
   "id": "b2b84b0d",
   "metadata": {},
   "outputs": [
    {
     "name": "stdout",
     "output_type": "stream",
     "text": [
      "May I have your first name please?Lydia\n"
     ]
    }
   ],
   "source": [
    "first_name=input(\"May I have your first name please?\")"
   ]
  },
  {
   "cell_type": "code",
   "execution_count": 96,
   "id": "a03f74ee",
   "metadata": {},
   "outputs": [
    {
     "name": "stdout",
     "output_type": "stream",
     "text": [
      "May I have your last name please?Li\n"
     ]
    }
   ],
   "source": [
    "last_name=input(\"May I have your last name please?\")"
   ]
  },
  {
   "cell_type": "code",
   "execution_count": 97,
   "id": "a219ab98",
   "metadata": {},
   "outputs": [
    {
     "name": "stdout",
     "output_type": "stream",
     "text": [
      "which country do you live?UK\n"
     ]
    }
   ],
   "source": [
    "country=input(\"which country do you live?\")"
   ]
  },
  {
   "cell_type": "code",
   "execution_count": 98,
   "id": "71d8c907",
   "metadata": {},
   "outputs": [
    {
     "name": "stdout",
     "output_type": "stream",
     "text": [
      "How old are you?34\n"
     ]
    }
   ],
   "source": [
    "age=input(\"How old are you?\")"
   ]
  },
  {
   "cell_type": "code",
   "execution_count": 99,
   "id": "67efd340",
   "metadata": {},
   "outputs": [],
   "source": [
    "age=int(age)"
   ]
  },
  {
   "cell_type": "code",
   "execution_count": 100,
   "id": "7ac4622c",
   "metadata": {},
   "outputs": [
    {
     "name": "stdout",
     "output_type": "stream",
     "text": [
      "Lydia\n"
     ]
    }
   ],
   "source": [
    "print(first_name)"
   ]
  },
  {
   "cell_type": "code",
   "execution_count": 101,
   "id": "bd8a0a95",
   "metadata": {},
   "outputs": [
    {
     "name": "stdout",
     "output_type": "stream",
     "text": [
      "Li\n"
     ]
    }
   ],
   "source": [
    "print(last_name)"
   ]
  },
  {
   "cell_type": "code",
   "execution_count": 102,
   "id": "886f7577",
   "metadata": {},
   "outputs": [
    {
     "name": "stdout",
     "output_type": "stream",
     "text": [
      "34\n"
     ]
    }
   ],
   "source": [
    "print(age)"
   ]
  },
  {
   "cell_type": "markdown",
   "id": "b6022ac3",
   "metadata": {},
   "source": [
    "Run help('keywords') in Python shell or in your file to check for the Python reserved words or keywords"
   ]
  },
  {
   "cell_type": "code",
   "execution_count": 103,
   "id": "5e34a51e",
   "metadata": {},
   "outputs": [
    {
     "name": "stdout",
     "output_type": "stream",
     "text": [
      "\n",
      "Here is a list of the Python keywords.  Enter any keyword to get more help.\n",
      "\n",
      "False               class               from                or\n",
      "None                continue            global              pass\n",
      "True                def                 if                  raise\n",
      "and                 del                 import              return\n",
      "as                  elif                in                  try\n",
      "assert              else                is                  while\n",
      "async               except              lambda              with\n",
      "await               finally             nonlocal            yield\n",
      "break               for                 not                 \n",
      "\n"
     ]
    }
   ],
   "source": [
    "help('keywords')"
   ]
  },
  {
   "cell_type": "code",
   "execution_count": 106,
   "id": "fda7f5a3",
   "metadata": {},
   "outputs": [
    {
     "name": "stdout",
     "output_type": "stream",
     "text": [
      "The \"nonlocal\" statement\n",
      "************************\n",
      "\n",
      "   nonlocal_stmt ::= \"nonlocal\" identifier (\",\" identifier)*\n",
      "\n",
      "The \"nonlocal\" statement causes the listed identifiers to refer to\n",
      "previously bound variables in the nearest enclosing scope excluding\n",
      "globals. This is important because the default behavior for binding is\n",
      "to search the local namespace first.  The statement allows\n",
      "encapsulated code to rebind variables outside of the local scope\n",
      "besides the global (module) scope.\n",
      "\n",
      "Names listed in a \"nonlocal\" statement, unlike those listed in a\n",
      "\"global\" statement, must refer to pre-existing bindings in an\n",
      "enclosing scope (the scope in which a new binding should be created\n",
      "cannot be determined unambiguously).\n",
      "\n",
      "Names listed in a \"nonlocal\" statement must not collide with pre-\n",
      "existing bindings in the local scope.\n",
      "\n",
      "See also:\n",
      "\n",
      "  **PEP 3104** - Access to Names in Outer Scopes\n",
      "     The specification for the \"nonlocal\" statement.\n",
      "\n",
      "Related help topics: global, NAMESPACES\n",
      "\n"
     ]
    }
   ],
   "source": [
    "help('nonlocal')"
   ]
  },
  {
   "cell_type": "code",
   "execution_count": 108,
   "id": "583cf509",
   "metadata": {},
   "outputs": [
    {
     "data": {
      "text/plain": [
       "['__add__',\n",
       " '__class__',\n",
       " '__contains__',\n",
       " '__delattr__',\n",
       " '__dir__',\n",
       " '__doc__',\n",
       " '__eq__',\n",
       " '__format__',\n",
       " '__ge__',\n",
       " '__getattribute__',\n",
       " '__getitem__',\n",
       " '__getnewargs__',\n",
       " '__getstate__',\n",
       " '__gt__',\n",
       " '__hash__',\n",
       " '__init__',\n",
       " '__init_subclass__',\n",
       " '__iter__',\n",
       " '__le__',\n",
       " '__len__',\n",
       " '__lt__',\n",
       " '__mod__',\n",
       " '__mul__',\n",
       " '__ne__',\n",
       " '__new__',\n",
       " '__reduce__',\n",
       " '__reduce_ex__',\n",
       " '__repr__',\n",
       " '__rmod__',\n",
       " '__rmul__',\n",
       " '__setattr__',\n",
       " '__sizeof__',\n",
       " '__str__',\n",
       " '__subclasshook__',\n",
       " 'capitalize',\n",
       " 'casefold',\n",
       " 'center',\n",
       " 'count',\n",
       " 'encode',\n",
       " 'endswith',\n",
       " 'expandtabs',\n",
       " 'find',\n",
       " 'format',\n",
       " 'format_map',\n",
       " 'index',\n",
       " 'isalnum',\n",
       " 'isalpha',\n",
       " 'isascii',\n",
       " 'isdecimal',\n",
       " 'isdigit',\n",
       " 'isidentifier',\n",
       " 'islower',\n",
       " 'isnumeric',\n",
       " 'isprintable',\n",
       " 'isspace',\n",
       " 'istitle',\n",
       " 'isupper',\n",
       " 'join',\n",
       " 'ljust',\n",
       " 'lower',\n",
       " 'lstrip',\n",
       " 'maketrans',\n",
       " 'partition',\n",
       " 'removeprefix',\n",
       " 'removesuffix',\n",
       " 'replace',\n",
       " 'rfind',\n",
       " 'rindex',\n",
       " 'rjust',\n",
       " 'rpartition',\n",
       " 'rsplit',\n",
       " 'rstrip',\n",
       " 'split',\n",
       " 'splitlines',\n",
       " 'startswith',\n",
       " 'strip',\n",
       " 'swapcase',\n",
       " 'title',\n",
       " 'translate',\n",
       " 'upper',\n",
       " 'zfill']"
      ]
     },
     "execution_count": 108,
     "metadata": {},
     "output_type": "execute_result"
    }
   ],
   "source": [
    "dir('return')"
   ]
  },
  {
   "cell_type": "code",
   "execution_count": null,
   "id": "c8f69e58",
   "metadata": {},
   "outputs": [],
   "source": []
  },
  {
   "cell_type": "code",
   "execution_count": null,
   "id": "572ef0d0",
   "metadata": {},
   "outputs": [],
   "source": []
  },
  {
   "cell_type": "code",
   "execution_count": null,
   "id": "77b171be",
   "metadata": {},
   "outputs": [],
   "source": []
  },
  {
   "cell_type": "code",
   "execution_count": null,
   "id": "42c001f0",
   "metadata": {},
   "outputs": [],
   "source": []
  },
  {
   "cell_type": "code",
   "execution_count": null,
   "id": "f68e31a9",
   "metadata": {},
   "outputs": [],
   "source": []
  },
  {
   "cell_type": "code",
   "execution_count": null,
   "id": "d550eecd",
   "metadata": {},
   "outputs": [],
   "source": []
  }
 ],
 "metadata": {
  "kernelspec": {
   "display_name": "Python 3 (ipykernel)",
   "language": "python",
   "name": "python3"
  },
  "language_info": {
   "codemirror_mode": {
    "name": "ipython",
    "version": 3
   },
   "file_extension": ".py",
   "mimetype": "text/x-python",
   "name": "python",
   "nbconvert_exporter": "python",
   "pygments_lexer": "ipython3",
   "version": "3.11.5"
  }
 },
 "nbformat": 4,
 "nbformat_minor": 5
}
